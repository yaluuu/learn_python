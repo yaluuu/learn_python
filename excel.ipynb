{
 "cells": [
  {
   "cell_type": "markdown",
   "metadata": {},
   "source": [
    "# excel"
   ]
  },
  {
   "cell_type": "code",
   "execution_count": 1,
   "metadata": {},
   "outputs": [
    {
     "data": {
      "text/plain": [
       "['term_info_20180820.xlsx']"
      ]
     },
     "execution_count": 1,
     "metadata": {},
     "output_type": "execute_result"
    }
   ],
   "source": [
    "import os \n",
    "os.listdir('test_data')"
   ]
  },
  {
   "cell_type": "code",
   "execution_count": 2,
   "metadata": {},
   "outputs": [],
   "source": [
    "import xlrd, xlwt"
   ]
  },
  {
   "cell_type": "code",
   "execution_count": 3,
   "metadata": {},
   "outputs": [
    {
     "name": "stdout",
     "output_type": "stream",
     "text": [
      "Help on package xlrd:\n",
      "\n",
      "NAME\n",
      "    xlrd\n",
      "\n",
      "DESCRIPTION\n",
      "    # Copyright (c) 2005-2012 Stephen John Machin, Lingfo Pty Ltd\n",
      "    # This module is part of the xlrd package, which is released under a\n",
      "    # BSD-style licence.\n",
      "\n",
      "PACKAGE CONTENTS\n",
      "    biffh\n",
      "    book\n",
      "    compdoc\n",
      "    formatting\n",
      "    formula\n",
      "    info\n",
      "    sheet\n",
      "    timemachine\n",
      "    xldate\n",
      "    xlsx\n",
      "\n",
      "FUNCTIONS\n",
      "    count_records(filename, outfile=<ipykernel.iostream.OutStream object at 0x7f110be720f0>)\n",
      "        For debugging and analysis: summarise the file's BIFF records.\n",
      "        ie: produce a sorted file of ``(record_name, count)``.\n",
      "        \n",
      "        :param filename: The path to the file to be summarised.\n",
      "        :param outfile: An open file, to which the summary is written.\n",
      "    \n",
      "    dump(filename, outfile=<ipykernel.iostream.OutStream object at 0x7f110be720f0>, unnumbered=False)\n",
      "        For debugging: dump an XLS file's BIFF records in char & hex.\n",
      "        \n",
      "        :param filename: The path to the file to be dumped.\n",
      "        :param outfile: An open file, to which the dump is written.\n",
      "        :param unnumbered: If true, omit offsets (for meaningful diffs).\n",
      "    \n",
      "    open_workbook(filename=None, logfile=<ipykernel.iostream.OutStream object at 0x7f110be720f0>, verbosity=0, use_mmap=1, file_contents=None, encoding_override=None, formatting_info=False, on_demand=False, ragged_rows=False)\n",
      "        Open a spreadsheet file for data extraction.\n",
      "        \n",
      "        :param filename: The path to the spreadsheet file to be opened.\n",
      "        \n",
      "        :param logfile: An open file to which messages and diagnostics are written.\n",
      "        \n",
      "        :param verbosity: Increases the volume of trace material written to the\n",
      "                          logfile.\n",
      "        \n",
      "        :param use_mmap:\n",
      "        \n",
      "          Whether to use the mmap module is determined heuristically.\n",
      "          Use this arg to override the result.\n",
      "        \n",
      "          Current heuristic: mmap is used if it exists.\n",
      "        \n",
      "        :param file_contents:\n",
      "        \n",
      "          A string or an :class:`mmap.mmap` object or some other behave-alike\n",
      "          object. If ``file_contents`` is supplied, ``filename`` will not be used,\n",
      "          except (possibly) in messages.\n",
      "        \n",
      "        :param encoding_override:\n",
      "        \n",
      "          Used to overcome missing or bad codepage information\n",
      "          in older-version files. See :doc:`unicode`.\n",
      "        \n",
      "        :param formatting_info:\n",
      "        \n",
      "          The default is ``False``, which saves memory.\n",
      "          In this case, \"Blank\" cells, which are those with their own formatting\n",
      "          information but no data, are treated as empty by ignoring the file's\n",
      "          ``BLANK`` and ``MULBLANK`` records.\n",
      "          This cuts off any bottom or right \"margin\" of rows of empty or blank\n",
      "          cells.\n",
      "          Only :meth:`~xlrd.sheet.Sheet.cell_value` and\n",
      "          :meth:`~xlrd.sheet.Sheet.cell_type` are available.\n",
      "        \n",
      "          When ``True``, formatting information will be read from the spreadsheet\n",
      "          file. This provides all cells, including empty and blank cells.\n",
      "          Formatting information is available for each cell.\n",
      "        \n",
      "          Note that this will raise a NotImplementedError when used with an\n",
      "          xlsx file.\n",
      "        \n",
      "        :param on_demand:\n",
      "        \n",
      "          Governs whether sheets are all loaded initially or when demanded\n",
      "          by the caller. See :doc:`on_demand`.\n",
      "        \n",
      "        :param ragged_rows:\n",
      "        \n",
      "          The default of ``False`` means all rows are padded out with empty cells so\n",
      "          that all rows have the same size as found in\n",
      "          :attr:`~xlrd.sheet.Sheet.ncols`.\n",
      "        \n",
      "          ``True`` means that there are no empty cells at the ends of rows.\n",
      "          This can result in substantial memory savings if rows are of widely\n",
      "          varying sizes. See also the :meth:`~xlrd.sheet.Sheet.row_len` method.\n",
      "        \n",
      "        :returns: An instance of the :class:`~xlrd.book.Book` class.\n",
      "\n",
      "DATA\n",
      "    FMLA_TYPE_ARRAY = 4\n",
      "    FMLA_TYPE_CELL = 1\n",
      "    FMLA_TYPE_COND_FMT = 8\n",
      "    FMLA_TYPE_DATA_VAL = 16\n",
      "    FMLA_TYPE_NAME = 32\n",
      "    FMLA_TYPE_SHARED = 2\n",
      "    MMAP_AVAILABLE = 1\n",
      "    USE_MMAP = 1\n",
      "    XL_CELL_BLANK = 6\n",
      "    XL_CELL_BOOLEAN = 4\n",
      "    XL_CELL_DATE = 3\n",
      "    XL_CELL_EMPTY = 0\n",
      "    XL_CELL_ERROR = 5\n",
      "    XL_CELL_NUMBER = 2\n",
      "    XL_CELL_TEXT = 1\n",
      "    __VERSION__ = '1.2.0'\n",
      "    biff_text_from_num = {0: '(not BIFF)', 20: '2.0', 21: '2.1', 30: '3', ...\n",
      "    empty_cell = empty:''\n",
      "    error_text_from_code = {0: '#NULL!', 7: '#DIV/0!', 15: '#VALUE!', 23: ...\n",
      "    oBOOL = 3\n",
      "    oERR = 4\n",
      "    oNUM = 2\n",
      "    oREF = -1\n",
      "    oREL = -2\n",
      "    oSTRG = 1\n",
      "    oUNK = 0\n",
      "    okind_dict = {-2: 'oREL', -1: 'oREF', 0: 'oUNK', 1: 'oSTRG', 2: 'oNUM'...\n",
      "\n",
      "VERSION\n",
      "    1.2.0\n",
      "\n",
      "FILE\n",
      "    /home/yl/anaconda3/envs/tensorflow/lib/python3.7/site-packages/xlrd/__init__.py\n",
      "\n",
      "\n"
     ]
    }
   ],
   "source": [
    "help(xlrd)"
   ]
  },
  {
   "cell_type": "code",
   "execution_count": 14,
   "metadata": {},
   "outputs": [
    {
     "data": {
      "text/plain": [
       "['.ipynb_checkpoints', 'test.xlsx', 'term_info_20180820.xlsx']"
      ]
     },
     "execution_count": 14,
     "metadata": {},
     "output_type": "execute_result"
    }
   ],
   "source": [
    "os.listdir('test_data')"
   ]
  },
  {
   "cell_type": "code",
   "execution_count": 11,
   "metadata": {},
   "outputs": [
    {
     "data": {
      "text/plain": [
       "'/home/yl/git/python_learn'"
      ]
     },
     "execution_count": 11,
     "metadata": {},
     "output_type": "execute_result"
    }
   ],
   "source": [
    "os.getcwd()"
   ]
  },
  {
   "cell_type": "code",
   "execution_count": 18,
   "metadata": {},
   "outputs": [],
   "source": [
    "data = xlrd.open_workbook('test_data/test.xlsx', encoding_override=\"utf-8\")"
   ]
  },
  {
   "cell_type": "code",
   "execution_count": 27,
   "metadata": {},
   "outputs": [],
   "source": [
    "sheet = data.sheets()[0]"
   ]
  },
  {
   "cell_type": "code",
   "execution_count": 30,
   "metadata": {},
   "outputs": [
    {
     "data": {
      "text/plain": [
       "['name',\n",
       " 'phone',\n",
       " 'dy',\n",
       " 'datetime',\n",
       " '',\n",
       " 'geo_code',\n",
       " 'bearing',\n",
       " 'bearing_code',\n",
       " 'cell_type',\n",
       " 'bs_type',\n",
       " 'cell_id',\n",
       " 'duration',\n",
       " 'times']"
      ]
     },
     "execution_count": 30,
     "metadata": {},
     "output_type": "execute_result"
    }
   ],
   "source": [
    "sheet.row_values(0)"
   ]
  },
  {
   "cell_type": "code",
   "execution_count": 32,
   "metadata": {},
   "outputs": [
    {
     "data": {
      "text/plain": [
       "['name', '快递_京东1', '快递_京东1', '快递_京东1']"
      ]
     },
     "execution_count": 32,
     "metadata": {},
     "output_type": "execute_result"
    }
   ],
   "source": [
    "sheet.col_values(0)[0:4]"
   ]
  },
  {
   "cell_type": "code",
   "execution_count": 33,
   "metadata": {},
   "outputs": [
    {
     "data": {
      "text/plain": [
       "(1637, 13)"
      ]
     },
     "execution_count": 33,
     "metadata": {},
     "output_type": "execute_result"
    }
   ],
   "source": [
    "sheet.nrows, sheet.ncols"
   ]
  },
  {
   "cell_type": "code",
   "execution_count": 38,
   "metadata": {},
   "outputs": [
    {
     "data": {
      "text/plain": [
       "'datetime'"
      ]
     },
     "execution_count": 38,
     "metadata": {},
     "output_type": "execute_result"
    }
   ],
   "source": [
    "sheet.row(0)[3].value"
   ]
  },
  {
   "cell_type": "code",
   "execution_count": 39,
   "metadata": {},
   "outputs": [
    {
     "data": {
      "text/plain": [
       "'快递_京东1'"
      ]
     },
     "execution_count": 39,
     "metadata": {},
     "output_type": "execute_result"
    }
   ],
   "source": [
    "sheet.col(0)[2].value"
   ]
  }
 ],
 "metadata": {
  "kernelspec": {
   "display_name": "Python 3",
   "language": "python",
   "name": "python3"
  },
  "language_info": {
   "codemirror_mode": {
    "name": "ipython",
    "version": 3
   },
   "file_extension": ".py",
   "mimetype": "text/x-python",
   "name": "python",
   "nbconvert_exporter": "python",
   "pygments_lexer": "ipython3",
   "version": "3.7.3"
  }
 },
 "nbformat": 4,
 "nbformat_minor": 4
}
