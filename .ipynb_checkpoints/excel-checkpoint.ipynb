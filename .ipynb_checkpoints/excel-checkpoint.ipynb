{
 "cells": [
  {
   "cell_type": "markdown",
   "metadata": {},
   "source": [
    "# excel"
   ]
  },
  {
   "cell_type": "code",
   "execution_count": 1,
   "metadata": {},
   "outputs": [
    {
     "data": {
      "text/plain": [
       "['term_info_20180820.xlsx']"
      ]
     },
     "execution_count": 1,
     "metadata": {},
     "output_type": "execute_result"
    }
   ],
   "source": [
    "import os \n",
    "os.listdir('test_data')"
   ]
  },
  {
   "cell_type": "code",
   "execution_count": 2,
   "metadata": {},
   "outputs": [],
   "source": [
    "import xlrd, xlwt"
   ]
  },
  {
   "cell_type": "code",
   "execution_count": 3,
   "metadata": {
    "collapsed": true,
    "jupyter": {
     "outputs_hidden": true
    }
   },
   "outputs": [
    {
     "name": "stdout",
     "output_type": "stream",
     "text": [
      "Help on package xlrd:\n",
      "\n",
      "NAME\n",
      "    xlrd\n",
      "\n",
      "DESCRIPTION\n",
      "    # Copyright (c) 2005-2012 Stephen John Machin, Lingfo Pty Ltd\n",
      "    # This module is part of the xlrd package, which is released under a\n",
      "    # BSD-style licence.\n",
      "\n",
      "PACKAGE CONTENTS\n",
      "    biffh\n",
      "    book\n",
      "    compdoc\n",
      "    formatting\n",
      "    formula\n",
      "    info\n",
      "    sheet\n",
      "    timemachine\n",
      "    xldate\n",
      "    xlsx\n",
      "\n",
      "FUNCTIONS\n",
      "    count_records(filename, outfile=<ipykernel.iostream.OutStream object at 0x7f110be720f0>)\n",
      "        For debugging and analysis: summarise the file's BIFF records.\n",
      "        ie: produce a sorted file of ``(record_name, count)``.\n",
      "        \n",
      "        :param filename: The path to the file to be summarised.\n",
      "        :param outfile: An open file, to which the summary is written.\n",
      "    \n",
      "    dump(filename, outfile=<ipykernel.iostream.OutStream object at 0x7f110be720f0>, unnumbered=False)\n",
      "        For debugging: dump an XLS file's BIFF records in char & hex.\n",
      "        \n",
      "        :param filename: The path to the file to be dumped.\n",
      "        :param outfile: An open file, to which the dump is written.\n",
      "        :param unnumbered: If true, omit offsets (for meaningful diffs).\n",
      "    \n",
      "    open_workbook(filename=None, logfile=<ipykernel.iostream.OutStream object at 0x7f110be720f0>, verbosity=0, use_mmap=1, file_contents=None, encoding_override=None, formatting_info=False, on_demand=False, ragged_rows=False)\n",
      "        Open a spreadsheet file for data extraction.\n",
      "        \n",
      "        :param filename: The path to the spreadsheet file to be opened.\n",
      "        \n",
      "        :param logfile: An open file to which messages and diagnostics are written.\n",
      "        \n",
      "        :param verbosity: Increases the volume of trace material written to the\n",
      "                          logfile.\n",
      "        \n",
      "        :param use_mmap:\n",
      "        \n",
      "          Whether to use the mmap module is determined heuristically.\n",
      "          Use this arg to override the result.\n",
      "        \n",
      "          Current heuristic: mmap is used if it exists.\n",
      "        \n",
      "        :param file_contents:\n",
      "        \n",
      "          A string or an :class:`mmap.mmap` object or some other behave-alike\n",
      "          object. If ``file_contents`` is supplied, ``filename`` will not be used,\n",
      "          except (possibly) in messages.\n",
      "        \n",
      "        :param encoding_override:\n",
      "        \n",
      "          Used to overcome missing or bad codepage information\n",
      "          in older-version files. See :doc:`unicode`.\n",
      "        \n",
      "        :param formatting_info:\n",
      "        \n",
      "          The default is ``False``, which saves memory.\n",
      "          In this case, \"Blank\" cells, which are those with their own formatting\n",
      "          information but no data, are treated as empty by ignoring the file's\n",
      "          ``BLANK`` and ``MULBLANK`` records.\n",
      "          This cuts off any bottom or right \"margin\" of rows of empty or blank\n",
      "          cells.\n",
      "          Only :meth:`~xlrd.sheet.Sheet.cell_value` and\n",
      "          :meth:`~xlrd.sheet.Sheet.cell_type` are available.\n",
      "        \n",
      "          When ``True``, formatting information will be read from the spreadsheet\n",
      "          file. This provides all cells, including empty and blank cells.\n",
      "          Formatting information is available for each cell.\n",
      "        \n",
      "          Note that this will raise a NotImplementedError when used with an\n",
      "          xlsx file.\n",
      "        \n",
      "        :param on_demand:\n",
      "        \n",
      "          Governs whether sheets are all loaded initially or when demanded\n",
      "          by the caller. See :doc:`on_demand`.\n",
      "        \n",
      "        :param ragged_rows:\n",
      "        \n",
      "          The default of ``False`` means all rows are padded out with empty cells so\n",
      "          that all rows have the same size as found in\n",
      "          :attr:`~xlrd.sheet.Sheet.ncols`.\n",
      "        \n",
      "          ``True`` means that there are no empty cells at the ends of rows.\n",
      "          This can result in substantial memory savings if rows are of widely\n",
      "          varying sizes. See also the :meth:`~xlrd.sheet.Sheet.row_len` method.\n",
      "        \n",
      "        :returns: An instance of the :class:`~xlrd.book.Book` class.\n",
      "\n",
      "DATA\n",
      "    FMLA_TYPE_ARRAY = 4\n",
      "    FMLA_TYPE_CELL = 1\n",
      "    FMLA_TYPE_COND_FMT = 8\n",
      "    FMLA_TYPE_DATA_VAL = 16\n",
      "    FMLA_TYPE_NAME = 32\n",
      "    FMLA_TYPE_SHARED = 2\n",
      "    MMAP_AVAILABLE = 1\n",
      "    USE_MMAP = 1\n",
      "    XL_CELL_BLANK = 6\n",
      "    XL_CELL_BOOLEAN = 4\n",
      "    XL_CELL_DATE = 3\n",
      "    XL_CELL_EMPTY = 0\n",
      "    XL_CELL_ERROR = 5\n",
      "    XL_CELL_NUMBER = 2\n",
      "    XL_CELL_TEXT = 1\n",
      "    __VERSION__ = '1.2.0'\n",
      "    biff_text_from_num = {0: '(not BIFF)', 20: '2.0', 21: '2.1', 30: '3', ...\n",
      "    empty_cell = empty:''\n",
      "    error_text_from_code = {0: '#NULL!', 7: '#DIV/0!', 15: '#VALUE!', 23: ...\n",
      "    oBOOL = 3\n",
      "    oERR = 4\n",
      "    oNUM = 2\n",
      "    oREF = -1\n",
      "    oREL = -2\n",
      "    oSTRG = 1\n",
      "    oUNK = 0\n",
      "    okind_dict = {-2: 'oREL', -1: 'oREF', 0: 'oUNK', 1: 'oSTRG', 2: 'oNUM'...\n",
      "\n",
      "VERSION\n",
      "    1.2.0\n",
      "\n",
      "FILE\n",
      "    /home/yl/anaconda3/envs/tensorflow/lib/python3.7/site-packages/xlrd/__init__.py\n",
      "\n",
      "\n"
     ]
    }
   ],
   "source": [
    "help(xlrd)"
   ]
  },
  {
   "cell_type": "code",
   "execution_count": 14,
   "metadata": {},
   "outputs": [
    {
     "data": {
      "text/plain": [
       "['.ipynb_checkpoints', 'test.xlsx', 'term_info_20180820.xlsx']"
      ]
     },
     "execution_count": 14,
     "metadata": {},
     "output_type": "execute_result"
    }
   ],
   "source": [
    "os.listdir('test_data')"
   ]
  },
  {
   "cell_type": "code",
   "execution_count": 11,
   "metadata": {},
   "outputs": [
    {
     "data": {
      "text/plain": [
       "'/home/yl/git/python_learn'"
      ]
     },
     "execution_count": 11,
     "metadata": {},
     "output_type": "execute_result"
    }
   ],
   "source": [
    "os.getcwd()"
   ]
  },
  {
   "cell_type": "code",
   "execution_count": 18,
   "metadata": {},
   "outputs": [],
   "source": [
    "data = xlrd.open_workbook('test_data/test.xlsx', encoding_override=\"utf-8\")"
   ]
  },
  {
   "cell_type": "code",
   "execution_count": 27,
   "metadata": {},
   "outputs": [],
   "source": [
    "sheet = data.sheets()[0]"
   ]
  },
  {
   "cell_type": "code",
   "execution_count": 30,
   "metadata": {},
   "outputs": [
    {
     "data": {
      "text/plain": [
       "['name',\n",
       " 'phone',\n",
       " 'dy',\n",
       " 'datetime',\n",
       " '',\n",
       " 'geo_code',\n",
       " 'bearing',\n",
       " 'bearing_code',\n",
       " 'cell_type',\n",
       " 'bs_type',\n",
       " 'cell_id',\n",
       " 'duration',\n",
       " 'times']"
      ]
     },
     "execution_count": 30,
     "metadata": {},
     "output_type": "execute_result"
    }
   ],
   "source": [
    "sheet.row_values(0)"
   ]
  },
  {
   "cell_type": "code",
   "execution_count": 32,
   "metadata": {},
   "outputs": [
    {
     "data": {
      "text/plain": [
       "['name', '快递_京东1', '快递_京东1', '快递_京东1']"
      ]
     },
     "execution_count": 32,
     "metadata": {},
     "output_type": "execute_result"
    }
   ],
   "source": [
    "sheet.col_values(0)[0:4]"
   ]
  },
  {
   "cell_type": "code",
   "execution_count": 33,
   "metadata": {},
   "outputs": [
    {
     "data": {
      "text/plain": [
       "(1637, 13)"
      ]
     },
     "execution_count": 33,
     "metadata": {},
     "output_type": "execute_result"
    }
   ],
   "source": [
    "sheet.nrows, sheet.ncols"
   ]
  },
  {
   "cell_type": "code",
   "execution_count": 38,
   "metadata": {},
   "outputs": [
    {
     "data": {
      "text/plain": [
       "'datetime'"
      ]
     },
     "execution_count": 38,
     "metadata": {},
     "output_type": "execute_result"
    }
   ],
   "source": [
    "sheet.row(0)[3].value"
   ]
  },
  {
   "cell_type": "code",
   "execution_count": 39,
   "metadata": {},
   "outputs": [
    {
     "data": {
      "text/plain": [
       "'快递_京东1'"
      ]
     },
     "execution_count": 39,
     "metadata": {},
     "output_type": "execute_result"
    }
   ],
   "source": [
    "sheet.col(0)[2].value"
   ]
  },
  {
   "cell_type": "markdown",
   "metadata": {},
   "source": [
    "## new"
   ]
  },
  {
   "cell_type": "markdown",
   "metadata": {},
   "source": [
    "课堂练习：  \n",
    "1. 删除地域为空的数据行(地域属性为空)  \n",
    "2. 删除在途工单(竣工时间为空)  \n",
    "3. 把datetime_str转换为datetime  \n",
    "4. 处理故障原因为最后一个小横线后的字符串  \n",
    "5. 统计城镇、非城镇工单量{城镇：n, 非城镇：m}  \n",
    "6. 按区县统计超时工单量  \n",
    "（小于100M带宽24小时，大于100M农村12小时，大于100M非农村8小时；工单用时=竣工时间-受理时间）"
   ]
  },
  {
   "cell_type": "code",
   "execution_count": 1,
   "metadata": {},
   "outputs": [
    {
     "data": {
      "text/plain": [
       "'/home/yl/git/python_learn'"
      ]
     },
     "execution_count": 1,
     "metadata": {},
     "output_type": "execute_result"
    }
   ],
   "source": [
    "import os \n",
    "os.getcwd()"
   ]
  },
  {
   "cell_type": "code",
   "execution_count": 2,
   "metadata": {},
   "outputs": [],
   "source": [
    "import xlrd, xlwt"
   ]
  },
  {
   "cell_type": "code",
   "execution_count": 3,
   "metadata": {},
   "outputs": [],
   "source": [
    "file_path = '../../peixun/diaodu_t.xls'\n",
    "file = xlrd.open_workbook(file_path, encoding_override = 'utf-8')"
   ]
  },
  {
   "cell_type": "code",
   "execution_count": 4,
   "metadata": {},
   "outputs": [
    {
     "data": {
      "text/plain": [
       "['列表1']"
      ]
     },
     "execution_count": 4,
     "metadata": {},
     "output_type": "execute_result"
    }
   ],
   "source": [
    "file.sheet_names()"
   ]
  },
  {
   "cell_type": "code",
   "execution_count": 5,
   "metadata": {},
   "outputs": [],
   "source": [
    "sheet = file.sheets()[0]"
   ]
  },
  {
   "cell_type": "code",
   "execution_count": 6,
   "metadata": {},
   "outputs": [
    {
     "data": {
      "text/plain": [
       "(79, 43)"
      ]
     },
     "execution_count": 6,
     "metadata": {},
     "output_type": "execute_result"
    }
   ],
   "source": [
    "sheet.nrows, sheet.ncols"
   ]
  },
  {
   "cell_type": "code",
   "execution_count": 39,
   "metadata": {
    "collapsed": true,
    "jupyter": {
     "outputs_hidden": true
    }
   },
   "outputs": [
    {
     "name": "stdout",
     "output_type": "stream",
     "text": [
      "流水号\n",
      "带宽\n",
      "受理时间\n",
      "故障账号\n",
      "VIP级别\n",
      "受理客服工号\n",
      "服务请求类型\n",
      "工单类型\n",
      "工单来源\n",
      "业务类型\n",
      "原因\n",
      "业务内容\n",
      "分公司\n",
      "区县\n",
      "状态\n",
      "所属班组\n",
      "小区编码\n",
      "小区名称\n",
      "接入性质\n",
      "地域属性\n",
      "居住类型\n",
      "生成时间\n",
      "竣工时间\n",
      "归档时间\n",
      "调度用时（分钟）\n",
      "预约用时（分钟）\n",
      "总历时（分钟）\n",
      "打回备注\n",
      "故障分类\n",
      "故障原因\n",
      "竣工备注\n",
      "调度人员\n",
      "维护人员\n",
      "超时原因\n",
      "重复申告次数\n",
      "返单次数\n",
      "首次到达时间\n",
      "首响时间\n",
      "装维账号\n",
      "装维公司\n",
      "预约或延期内容真实，用户认可\n",
      "沟通话术规范\n",
      "备注(不合格时必填)\n"
     ]
    }
   ],
   "source": [
    "for k in iter(sheet.row_values(0)): print(k)"
   ]
  },
  {
   "cell_type": "code",
   "execution_count": 7,
   "metadata": {
    "collapsed": true,
    "jupyter": {
     "outputs_hidden": true
    }
   },
   "outputs": [
    {
     "data": {
      "text/plain": [
       "{'流水号': 0,\n",
       " '带宽': 1,\n",
       " '受理时间': 2,\n",
       " '故障账号': 3,\n",
       " 'VIP级别': 4,\n",
       " '受理客服工号': 5,\n",
       " '服务请求类型': 6,\n",
       " '工单类型': 7,\n",
       " '工单来源': 8,\n",
       " '业务类型': 9,\n",
       " '原因': 10,\n",
       " '业务内容': 11,\n",
       " '分公司': 12,\n",
       " '区县': 13,\n",
       " '状态': 14,\n",
       " '所属班组': 15,\n",
       " '小区编码': 16,\n",
       " '小区名称': 17,\n",
       " '接入性质': 18,\n",
       " '地域属性': 19,\n",
       " '居住类型': 20,\n",
       " '生成时间': 21,\n",
       " '竣工时间': 22,\n",
       " '归档时间': 23,\n",
       " '调度用时（分钟）': 24,\n",
       " '预约用时（分钟）': 25,\n",
       " '总历时（分钟）': 26,\n",
       " '打回备注': 27,\n",
       " '故障分类': 28,\n",
       " '故障原因': 29,\n",
       " '竣工备注': 30,\n",
       " '调度人员': 31,\n",
       " '维护人员': 32,\n",
       " '超时原因': 33,\n",
       " '重复申告次数': 34,\n",
       " '返单次数': 35,\n",
       " '首次到达时间': 36,\n",
       " '首响时间': 37,\n",
       " '装维账号': 38,\n",
       " '装维公司': 39,\n",
       " '预约或延期内容真实，用户认可': 40,\n",
       " '沟通话术规范': 41,\n",
       " '备注(不合格时必填)': 42}"
      ]
     },
     "execution_count": 7,
     "metadata": {},
     "output_type": "execute_result"
    }
   ],
   "source": [
    "# 列序号，方便通过列名直接找列序号\n",
    "col_index = {}\n",
    "for i, val in enumerate(sheet.row_values(0)): col_index[val] = i\n",
    "col_index"
   ]
  },
  {
   "cell_type": "code",
   "execution_count": 8,
   "metadata": {},
   "outputs": [],
   "source": [
    "# 扩展1列：新生成的原因\n",
    "col_index['故障原因（新）'] = max(col_index.values()) + 1 "
   ]
  },
  {
   "cell_type": "code",
   "execution_count": 9,
   "metadata": {},
   "outputs": [],
   "source": [
    "# 超时标准，信息不全的按24小时处理\n",
    "timeout_standard = {'小于100M': 24 * 3600, '大于100M农村': 12 * 3600, '大于100M城镇': 8 * 3600, '不详': 24 * 3600}"
   ]
  },
  {
   "cell_type": "code",
   "execution_count": 36,
   "metadata": {},
   "outputs": [
    {
     "data": {
      "text/plain": [
       "True"
      ]
     },
     "execution_count": 36,
     "metadata": {},
     "output_type": "execute_result"
    }
   ],
   "source": [
    "'小于100M' in timeout_standard"
   ]
  },
  {
   "cell_type": "code",
   "execution_count": 10,
   "metadata": {},
   "outputs": [],
   "source": [
    "def is_timeout(row): \n",
    "    if (row[col_index['带宽']].strip() == ''\n",
    "           or int(row[col_index['带宽']].strip().split('M')[0]) < 100 \n",
    "       ):\n",
    "        broad_label = '小于100M' \n",
    "    else: \n",
    "        broad_label = '大于100M城镇' if row[col_index['地域属性']] in ('城市', '乡镇') \\\n",
    "            else '大于100M农村' if row[col_index['地域属性']] in ('农村',) \\\n",
    "            else '不详'\n",
    "    return True if row[col_index['竣工时间']] - row[col_index['受理时间']] >= timeout_standard[broad_label] else False \n"
   ]
  },
  {
   "cell_type": "code",
   "execution_count": 31,
   "metadata": {},
   "outputs": [
    {
     "data": {
      "text/plain": [
       "1"
      ]
     },
     "execution_count": 31,
     "metadata": {},
     "output_type": "execute_result"
    }
   ],
   "source": [
    "sheet.cell_type(1, 1)"
   ]
  },
  {
   "cell_type": "code",
   "execution_count": 53,
   "metadata": {},
   "outputs": [],
   "source": [
    "import time, re\n",
    "from collections import defaultdict\n",
    "# 初始化数据 数据、城镇工单、非城镇工单、区县超时数量\n",
    "data, n_town, n_notown, n_tmout = [], 0, 0, defaultdict(int)\n",
    "for i in range(sheet.nrows):\n",
    "    # 首行不要，地域属性为空的不要，竣工时间为空的不要\n",
    "    if (i == 0 \n",
    "        or sheet.cell_value(i, col_index['地域属性']).strip() == '' \n",
    "        or sheet.cell_value(i, col_index['竣工时间']).strip() == ''): continue \n",
    "    # 取数据行\n",
    "    row = sheet.row_values(i) \n",
    "    # 数据中故障原因没有横杠的，这里提取故障类型中最后一个'-'后的字符串生成新的一列\n",
    "    row.append(sheet.row_values(i)[col_index['故障分类']].strip().split('-')[-1])\n",
    "    # 转换时间字符串为时间戳, 转换所有可以转换的列\n",
    "    time_pattern = r'^\\d{4}(-\\d{2}){2} \\d{2}(:\\d{2}){2}(\\.\\d+)?$'\n",
    "    time_format = '%Y-%m-%d %H:%M:%S'\n",
    "    to_timestamp = lambda x: time.mktime(time.strptime(x[:19], time_format)) if re.match(time_pattern, x) else x \n",
    "    row = list(map(to_timestamp, row))\n",
    "    # 统计城镇非城镇的数量\n",
    "    n_town = n_town + 1 if row[col_index['地域属性']] in ('城市', '乡镇') else n_town\n",
    "    n_notown = n_notown + 1 if row[col_index['地域属性']] == '农村' else n_notown \n",
    "    # 统计超时数量\n",
    "    n_tmout[row[col_index['区县']]] += is_timeout(row) \n",
    "    data.append(row)"
   ]
  },
  {
   "cell_type": "code",
   "execution_count": 54,
   "metadata": {},
   "outputs": [
    {
     "data": {
      "text/plain": [
       "(26,\n",
       " 22,\n",
       " 4,\n",
       " defaultdict(int,\n",
       "             {'中江县': 0, '旌阳区': 0, '广汉市': 0, '绵竹市': 2, '罗江县': 0, '什邡市': 0}))"
      ]
     },
     "execution_count": 54,
     "metadata": {},
     "output_type": "execute_result"
    }
   ],
   "source": [
    "# 结果\n",
    "len(data), n_town, n_notown, n_tmout"
   ]
  },
  {
   "cell_type": "markdown",
   "metadata": {},
   "source": [
    "部分数据查看"
   ]
  },
  {
   "cell_type": "code",
   "execution_count": 50,
   "metadata": {},
   "outputs": [
    {
     "data": {
      "text/plain": [
       "0"
      ]
     },
     "execution_count": 50,
     "metadata": {},
     "output_type": "execute_result"
    }
   ],
   "source": [
    "# 演示defaultdict\n",
    "from collections import defaultdict\n",
    "a = defaultdict(int)\n",
    "a['a']"
   ]
  },
  {
   "cell_type": "code",
   "execution_count": 13,
   "metadata": {},
   "outputs": [
    {
     "data": {
      "text/plain": [
       "{'', '乡镇', '农村', '地域属性', '城市'}"
      ]
     },
     "execution_count": 13,
     "metadata": {},
     "output_type": "execute_result"
    }
   ],
   "source": [
    "# 查看地域属性有哪些值\n",
    "set(sheet.col_values(col_index['地域属性']))"
   ]
  },
  {
   "cell_type": "code",
   "execution_count": 63,
   "metadata": {},
   "outputs": [],
   "source": [
    "if not True: print('yes')"
   ]
  },
  {
   "cell_type": "code",
   "execution_count": 64,
   "metadata": {},
   "outputs": [
    {
     "data": {
      "text/plain": [
       "{'中江县', '什邡市', '区县', '广汉市', '旌阳区', '绵竹市', '罗江县'}"
      ]
     },
     "execution_count": 64,
     "metadata": {},
     "output_type": "execute_result"
    }
   ],
   "source": [
    "# 查看有哪些区县\n",
    "set(sheet.col_values(col_index['区县']))"
   ]
  },
  {
   "cell_type": "code",
   "execution_count": 16,
   "metadata": {},
   "outputs": [
    {
     "name": "stdout",
     "output_type": "stream",
     "text": [
      "['用户户内光纤故障', '帐号过期或欠费停用', '皮线光缆故障或无法穿通', '机顶盒不会连接', '用户户内设备连接线问题（如网线、电源线、皮缆未插好或接头问题）', '用户路由器问题', '其他', '用户电脑问题', '用户路由器问题', '用户户内设备连接线问题（如网线、电源线、皮缆未插好或接头问题）', 'ONU设备故障', '机顶盒不会连接', '机顶盒不会连接', '机顶盒遥控器不会使用或电池问题', '机顶盒故障', '用户室内光纤被老鼠咬断，重新溶解已恢复，工单派发的宽带账号和实际故障宽带账号不一致，无法进行业务恢复挂测验证 退单', '用户户内网线故障', '用户户内光纤故障', '其他', '用户电视机故障', '皮线光缆故障或无法穿通', '用户路由器问题', '用户电视机故障', '用户路由器问题', '用户户内光纤故障', '用户路由器问题']\n"
     ]
    }
   ],
   "source": [
    "print([row[col_index['故障原因']] for row in data])"
   ]
  },
  {
   "cell_type": "code",
   "execution_count": 18,
   "metadata": {
    "collapsed": true,
    "jupyter": {
     "outputs_hidden": true
    }
   },
   "outputs": [
    {
     "data": {
      "text/plain": [
       "['2019040107414',\n",
       " '100M',\n",
       " 1554089707.0,\n",
       " '20917877508',\n",
       " '',\n",
       " '',\n",
       " '家庭业务-服务触点-本省家庭业务-全局流转-功能使用-本省问题-城市三方校园小区用户侧服务请求',\n",
       " '',\n",
       " '',\n",
       " '',\n",
       " '',\n",
       " '【基本信息】 209号码: 20917877508 开户地址: 德阳|旌阳分公司|德阳旌阳区凯江晶典小区3号楼11楼-13楼-FTTH(烽火)(扩容)|100M 宽带类型对应域名: cmcc 小区区域类型: 城市 所属小区: 旌阳区凯江路与乐山街交汇处左右汇乐晶典小区 网络归属: 移动 集中故障告警流水号: Eoms工单流水号: null 【受理内容】 宽带业务->宽带障碍子流程->错误提示->其它或无错误 【端到端诊断】:正常 [ 资源完整性 ]: 资源不完整 诊断描述：异常：102，BRAS信息缺失 接入方式：CMCC_GPON+FTTH [ 网络侧诊断 ]:正常 诊断描述：未知：102，BRAS信息缺失 BRAS设备状态： BRAS接收宽带利用率： BRAS发送宽带利用率： OLT设备状态： OLT PON板状态： OLT PON口状态： [ 用户侧诊断 ]:正常 诊断描述：异常：301，传输网管ONU状态异常：掉电 ONU设备状态：掉电 ONU用户口状态： ONU收光功率： OLT到ONU距离： 家庭网关状态： 【预处理轨迹】 预处理流水号：2019040108471623838799 存入无错误提示流程编码: 已存入 sc_BOSS状态查询: 正常 sc_3A与BOSS系统是否一致: 一致 sc_端到端诊断_中断: 正常 sc_是否有宽带非性能劣化群障: 否 sc_自动判断光猫是否在线: 不在线/无信息 sc_指引用户重启光猫: 未恢复/不配合 sc_询问用户通过路由器还是网线上网: 路由器 存入路由器流程编码: 已存入 sc_是否所有设备都不能连接: 是 sc_询问是否有电脑可以插网线测试: 无 【操作轨迹】 无相关操作; 【预处理备注】 上网账号:20917877508；联系电话:13658108890; 用户宽带209号码:20917877508',\n",
       " '德阳',\n",
       " '旌阳区',\n",
       " '已归档',\n",
       " '开发区分局',\n",
       " '旌阳区凯江路与乐山街交汇处左右汇乐晶典小区',\n",
       " '旌阳区凯江路与乐山街交汇处左右汇乐晶典小区',\n",
       " '',\n",
       " '城市',\n",
       " '城市',\n",
       " 1554090445.0,\n",
       " 1554098985.0,\n",
       " '',\n",
       " '-1',\n",
       " '0',\n",
       " '154',\n",
       " '',\n",
       " '用户账号问题-用户原因',\n",
       " '帐号过期或欠费停用',\n",
       " '1255502联系，用户账号欠费，已通知营业厅处理。',\n",
       " '冯世君',\n",
       " '冯世君',\n",
       " '',\n",
       " '0',\n",
       " '0',\n",
       " 1554090446.0,\n",
       " 1554090398.0,\n",
       " 'fengshijun_dy',\n",
       " '四川桓源科技实业有限公司',\n",
       " '',\n",
       " '',\n",
       " '',\n",
       " '用户原因']"
      ]
     },
     "execution_count": 18,
     "metadata": {},
     "output_type": "execute_result"
    }
   ],
   "source": [
    "data[1]"
   ]
  },
  {
   "cell_type": "markdown",
   "metadata": {},
   "source": [
    "保存数据  \n",
    "csv很简单，这里保存为excel"
   ]
  },
  {
   "cell_type": "code",
   "execution_count": 30,
   "metadata": {},
   "outputs": [],
   "source": [
    "new_path = '../../peixun/diaodu_t_new.xls'"
   ]
  },
  {
   "cell_type": "code",
   "execution_count": 34,
   "metadata": {},
   "outputs": [],
   "source": [
    "workbook = xlwt.Workbook(encoding = 'utf-8')\n",
    "worksheet = workbook.add_sheet('new')\n",
    "# 写入title\n",
    "for col, index in col_index.items(): \n",
    "    worksheet.write(0, index, col) \n",
    "# 写入data数据\n",
    "for i in range(len(data)):\n",
    "    for j in range(len(data[i])):\n",
    "        worksheet.write(i + 1, j, data[i][j])\n",
    "# 保存文件\n",
    "workbook.save(new_path)"
   ]
  },
  {
   "cell_type": "markdown",
   "metadata": {},
   "source": [
    "测试"
   ]
  },
  {
   "cell_type": "code",
   "execution_count": 17,
   "metadata": {},
   "outputs": [
    {
     "data": {
      "text/plain": [
       "43"
      ]
     },
     "execution_count": 17,
     "metadata": {},
     "output_type": "execute_result"
    }
   ],
   "source": [
    "max(col_index.values())"
   ]
  },
  {
   "cell_type": "code",
   "execution_count": 84,
   "metadata": {},
   "outputs": [],
   "source": [
    "sheet.row_values(1).append('d')"
   ]
  },
  {
   "cell_type": "code",
   "execution_count": 19,
   "metadata": {},
   "outputs": [],
   "source": [
    "import re \n",
    "pattern = r'^\\d{4}(-\\d{2}){2} \\d{2}(:\\d{2}){2}(\\.\\d+)?$'"
   ]
  },
  {
   "cell_type": "code",
   "execution_count": 20,
   "metadata": {},
   "outputs": [
    {
     "data": {
      "text/plain": [
       "0"
      ]
     },
     "execution_count": 20,
     "metadata": {},
     "output_type": "execute_result"
    }
   ],
   "source": [
    "a = 1 if re.match(pattern, '2019-05-06 12:45:23.') else 0\n",
    "a"
   ]
  },
  {
   "cell_type": "code",
   "execution_count": 23,
   "metadata": {},
   "outputs": [
    {
     "data": {
      "text/plain": [
       "'2019-04-01 11:47:25'"
      ]
     },
     "execution_count": 23,
     "metadata": {},
     "output_type": "execute_result"
    }
   ],
   "source": [
    "x='2019-04-01 11:47:25.2'\n",
    "x[:19]"
   ]
  },
  {
   "cell_type": "code",
   "execution_count": 35,
   "metadata": {},
   "outputs": [
    {
     "data": {
      "text/plain": [
       "array('B', [1, 1, 1, 1, 1, 1, 1, 1, 1, 1, 1, 1, 1, 1, 1, 1, 1, 1, 1, 1, 1, 1, 1, 1, 1, 1, 1, 1, 1, 1, 1, 1, 1, 1, 1, 1, 1, 1, 1, 1, 1, 1, 1])"
      ]
     },
     "execution_count": 35,
     "metadata": {},
     "output_type": "execute_result"
    }
   ],
   "source": [
    "sheet.row_types(1)"
   ]
  },
  {
   "cell_type": "code",
   "execution_count": 36,
   "metadata": {},
   "outputs": [
    {
     "data": {
      "text/plain": [
       "array('B', [1, 1, 1, 1, 1, 1, 1, 1, 1, 1, 1, 1, 1, 1, 1, 1, 1, 1, 1, 1, 1, 1, 1, 1, 1, 1, 1, 1, 1, 1, 1, 1, 1, 1, 1, 1, 1, 1, 1, 1, 1, 1, 1])"
      ]
     },
     "execution_count": 36,
     "metadata": {},
     "output_type": "execute_result"
    }
   ],
   "source": [
    "sheet.row_types(0)"
   ]
  },
  {
   "cell_type": "code",
   "execution_count": 24,
   "metadata": {},
   "outputs": [
    {
     "data": {
      "text/plain": [
       "1554090445.0"
      ]
     },
     "execution_count": 24,
     "metadata": {},
     "output_type": "execute_result"
    }
   ],
   "source": [
    "import time \n",
    "time_format = '%Y-%m-%d %H:%M:%S.%f'\n",
    "time.mktime(time.strptime('2019-04-01 11:47:25.24', time_format))"
   ]
  }
 ],
 "metadata": {
  "kernelspec": {
   "display_name": "Python 3",
   "language": "python",
   "name": "python3"
  },
  "language_info": {
   "codemirror_mode": {
    "name": "ipython",
    "version": 3
   },
   "file_extension": ".py",
   "mimetype": "text/x-python",
   "name": "python",
   "nbconvert_exporter": "python",
   "pygments_lexer": "ipython3",
   "version": "3.7.4"
  }
 },
 "nbformat": 4,
 "nbformat_minor": 4
}
